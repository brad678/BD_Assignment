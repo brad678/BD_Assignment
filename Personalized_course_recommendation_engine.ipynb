{
 "cells": [
  {
   "cell_type": "markdown",
   "id": "ee961324",
   "metadata": {},
   "source": [
    "#### Load libraries"
   ]
  },
  {
   "cell_type": "code",
   "execution_count": 39,
   "id": "99b495e1",
   "metadata": {},
   "outputs": [],
   "source": [
    "import os\n",
    "import dotenv\n",
    "from openai import AzureOpenAI\n",
    "import pandas as pd\n",
    "import faiss\n",
    "import numpy as np\n",
    "import pickle"
   ]
  },
  {
   "cell_type": "markdown",
   "id": "2ee238c3",
   "metadata": {},
   "source": [
    "#### Setup embedding model"
   ]
  },
  {
   "cell_type": "code",
   "execution_count": 40,
   "id": "4384d04d",
   "metadata": {},
   "outputs": [],
   "source": [
    "client = AzureOpenAI(\n",
    "    api_key=os.getenv(\"AZURE_OPENAI_API_KEY\"),\n",
    "    api_version=\"2024-12-01-preview\",  # \n",
    "    azure_endpoint=os.getenv(\"AZURE_OPENAI_ENDPOINT\")\n",
    ")\n",
    "\n",
    "def get_embedding(text: str, deployment=\"text-embedding-ada-002\") -> list:\n",
    "    response = client.embeddings.create(\n",
    "        input=[text],\n",
    "        model=deployment  # this is your *deployment name*, not base model\n",
    "    )\n",
    "    return response.data[0].embedding"
   ]
  },
  {
   "cell_type": "markdown",
   "id": "9785c708",
   "metadata": {},
   "source": [
    "#### Create embeddings using openai and persist it using faiss. Store metadata separately."
   ]
  },
  {
   "cell_type": "code",
   "execution_count": 41,
   "id": "c9f880d1",
   "metadata": {},
   "outputs": [],
   "source": [
    "# Load data\n",
    "df = pd.read_csv(\"/home/user/Desktop/GAAPB01-training-code-base/Assignments/assignment2dataset.csv\")\n",
    "df['full_text'] = df['title'] + \": \" + df['description']\n",
    "df['embedding'] = df['full_text'].apply(get_embedding)\n",
    "\n",
    "# Create FAISS index\n",
    "index = faiss.IndexFlatL2(1536)\n",
    "embedding_matrix = np.vstack(df['embedding'].values)\n",
    "index.add(embedding_matrix)\n",
    "\n",
    "# Save FAISS index\n",
    "faiss.write_index(index, \"course_index.faiss\")\n",
    "\n",
    "# Create ID -> metadata mapping (course_id, title, etc.)\n",
    "metadata = df[['course_id', 'title', 'description']].to_dict(orient='records')\n",
    "\n",
    "# Save metadata to match FAISS index\n",
    "with open(\"course_metadata.pkl\", \"wb\") as f:\n",
    "    pickle.dump(metadata, f)\n"
   ]
  },
  {
   "cell_type": "markdown",
   "id": "35aa62cd",
   "metadata": {},
   "source": [
    "#### Get recommendations through similarity search"
   ]
  },
  {
   "cell_type": "code",
   "execution_count": 42,
   "id": "3035c9ce",
   "metadata": {},
   "outputs": [],
   "source": [
    "from typing import List, Tuple\n",
    "import numpy as np\n",
    "import faiss\n",
    "import pickle\n",
    "\n",
    "# Load FAISS index\n",
    "index = faiss.read_index(\"course_index.faiss\")\n",
    "\n",
    "# Load metadata (list of dicts with 'course_id', 'title', 'description')\n",
    "with open(\"course_metadata.pkl\", \"rb\") as f:\n",
    "    metadata = pickle.load(f)\n",
    "\n",
    "def recommend_courses(profile: str, completed_ids: List[str]) -> List[Tuple[str, float]]:\n",
    "    input_text = profile\n",
    "\n",
    "    # # Get full_texts of completed courses\n",
    "    # completed_texts = [\n",
    "    #     f\"{item['title']}: {item['description']}\"\n",
    "    #     for item in metadata\n",
    "    #     if item['course_id'] in completed_ids\n",
    "    # ]\n",
    "\n",
    "    # # Append completed course content to profile\n",
    "    # if completed_texts:\n",
    "    #     input_text += \" \" + \" \".join(completed_texts)\n",
    "\n",
    "    # Embed the final input\n",
    "    query_embedding = np.array(get_embedding(input_text)).reshape(1, -1)\n",
    "\n",
    "    # Query FAISS index\n",
    "    distances, indices = index.search(query_embedding, k=10)\n",
    "\n",
    "    # Prepare recommendations (exclude already completed)\n",
    "    recommendations = [\n",
    "        (metadata[i]['course_id'], float(1 - distances[0][j]))\n",
    "        for j, i in enumerate(indices[0])\n",
    "        if metadata[i]['course_id'] not in completed_ids\n",
    "    ]\n",
    "    return recommendations[:5]  # Return top 5 recommendations\n"
   ]
  },
  {
   "cell_type": "markdown",
   "id": "9ec3e16e",
   "metadata": {},
   "source": [
    "#### Execution to get recommendations"
   ]
  },
  {
   "cell_type": "code",
   "execution_count": 38,
   "id": "df8878fa",
   "metadata": {},
   "outputs": [
    {
     "name": "stdout",
     "output_type": "stream",
     "text": [
      "--------------------------------------------------------------------------------\n",
      "Input query:\n",
      " I've completed the 'Python Programming for Data Science' course and enjoy data visualization. What should I take next?\n",
      "\n",
      "Recommended Course IDs for:\n",
      " [('C011', 0.6178039312362671), ('C014', 0.6132631301879883), ('C017', 0.5913984775543213), ('C004', 0.5881150960922241), ('C001', 0.5750609040260315)]\n",
      "\n",
      "Additional Information:\n",
      "C011: Big Data Analytics with Spark\n",
      "C014: Data Visualization with Tableau\n",
      "C017: R Programming and Statistical Analysis\n",
      "C004: Computer Vision and Image Processing\n",
      "C001: Foundations of Machine Learning\n",
      "--------------------------------------------------------------------------------\n",
      "Input query:\n",
      " I know Azure basics and want to manage containers and build CI/CD pipelines. Recommend courses.\n",
      "\n",
      "Recommended Course IDs for:\n",
      " [('C007', 0.6888490915298462), ('C009', 0.665590226650238), ('C008', 0.6512447595596313), ('C010', 0.5979080200195312), ('C025', 0.5947254300117493)]\n",
      "\n",
      "Additional Information:\n",
      "C007: Cloud Computing with Azure\n",
      "C009: Containerization with Docker and Kubernetes\n",
      "C008: DevOps Practices and CI/CD\n",
      "C010: APIs and Microservices Architecture\n",
      "C025: MLOps: Productionizing Machine Learning\n",
      "--------------------------------------------------------------------------------\n",
      "Input query:\n",
      " My background is in ML fundamentals; I'd like to specialize in neural networks and production workflows.\n",
      "\n",
      "Recommended Course IDs for:\n",
      " [('C025', 0.6841274499893188), ('C002', 0.6506571769714355), ('C001', 0.6373583078384399), ('C003', 0.6354049444198608), ('C004', 0.634367823600769)]\n",
      "\n",
      "Additional Information:\n",
      "C025: MLOps: Productionizing Machine Learning\n",
      "C002: Deep Learning with TensorFlow and Keras\n",
      "C001: Foundations of Machine Learning\n",
      "C003: Natural Language Processing Fundamentals\n",
      "C004: Computer Vision and Image Processing\n",
      "--------------------------------------------------------------------------------\n",
      "Input query:\n",
      " I want to learn to build and deploy microservices with Kubernetes—what courses fit best?\n",
      "\n",
      "Recommended Course IDs for:\n",
      " [('C009', 0.761870265007019), ('C010', 0.6793363690376282), ('C008', 0.630007266998291), ('C007', 0.6200132369995117), ('C025', 0.6147844791412354)]\n",
      "\n",
      "Additional Information:\n",
      "C009: Containerization with Docker and Kubernetes\n",
      "C010: APIs and Microservices Architecture\n",
      "C008: DevOps Practices and CI/CD\n",
      "C007: Cloud Computing with Azure\n",
      "C025: MLOps: Productionizing Machine Learning\n",
      "--------------------------------------------------------------------------------\n",
      "Input query:\n",
      " I'm interested in blockchain and smart contracts but have no prior experience. Which courses do you suggest?\n",
      "\n",
      "Recommended Course IDs for:\n",
      " [('C023', 0.7353338003158569), ('C022', 0.5423992276191711), ('C010', 0.5410701036453247), ('C009', 0.5233076810836792), ('C021', 0.5226919054985046)]\n",
      "\n",
      "Additional Information:\n",
      "C023: Blockchain Technology and Smart Contracts\n",
      "C022: Internet of Things (IoT) Development\n",
      "C010: APIs and Microservices Architecture\n",
      "C009: Containerization with Docker and Kubernetes\n",
      "C021: Cybersecurity Fundamentals\n"
     ]
    }
   ],
   "source": [
    "\n",
    "questions_to_ask = [\n",
    "    \"I've completed the 'Python Programming for Data Science' course and enjoy data visualization. What should I take next?\",\n",
    "    \"I know Azure basics and want to manage containers and build CI/CD pipelines. Recommend courses.\",\n",
    "    \"My background is in ML fundamentals; I'd like to specialize in neural networks and production workflows.\",\n",
    "    \"I want to learn to build and deploy microservices with Kubernetes—what courses fit best?\",\n",
    "    \"I'm interested in blockchain and smart contracts but have no prior experience. Which courses do you suggest?\"\n",
    "]\n",
    "completed_courses_list = [\"C016\",\"\",\"\",\"\",\"\",\"\"]\n",
    "\n",
    "for question in questions_to_ask:\n",
    "    print(\"-\" * 80)\n",
    "    print(f\"Input query:\\n {question}\")\n",
    "    recommend_course_ids = recommend_courses(question, completed_courses_list[questions_to_ask.index(question)])\n",
    "    print(f\"\\nRecommended Course IDs for:\\n\", recommend_course_ids)\n",
    "    print(\"\\nAdditional Information:\")\n",
    "    for course_id, score in recommend_course_ids:\n",
    "        metadata_item = next((item for item in metadata if item['course_id'] == course_id), None)\n",
    "        if metadata_item:\n",
    "            title = metadata_item['title']\n",
    "            print(f\"{course_id}: {title}\")"
   ]
  }
 ],
 "metadata": {
  "kernelspec": {
   "display_name": "gen-ai",
   "language": "python",
   "name": "python3"
  },
  "language_info": {
   "codemirror_mode": {
    "name": "ipython",
    "version": 3
   },
   "file_extension": ".py",
   "mimetype": "text/x-python",
   "name": "python",
   "nbconvert_exporter": "python",
   "pygments_lexer": "ipython3",
   "version": "3.12.3"
  }
 },
 "nbformat": 4,
 "nbformat_minor": 5
}
